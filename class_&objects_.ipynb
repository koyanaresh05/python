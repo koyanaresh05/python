{
  "nbformat": 4,
  "nbformat_minor": 0,
  "metadata": {
    "colab": {
      "provenance": []
    },
    "kernelspec": {
      "name": "python3",
      "display_name": "Python 3"
    },
    "language_info": {
      "name": "python"
    }
  },
  "cells": [
    {
      "cell_type": "code",
      "execution_count": 3,
      "metadata": {
        "colab": {
          "base_uri": "https://localhost:8080/"
        },
        "id": "lr_re6TSvWij",
        "outputId": "e7f82624-b456-41ae-85d4-a8b819779351"
      },
      "outputs": [
        {
          "output_type": "stream",
          "name": "stdout",
          "text": [
            "dg\n",
            "iam dg\n",
            "iam dg_2\n"
          ]
        }
      ],
      "source": [
        "class dog:\n",
        "  attr1=\"dg\"\n",
        "  attr2=\"dg_2\"\n",
        "  def fun(self):\n",
        "    print(\"iam\",self.attr1)\n",
        "    print(\"iam\",self.attr2)\n",
        "Rodger=dog()\n",
        "print(Rodger.attr1)\n",
        "Rodger.fun()\n",
        "\n",
        "\n"
      ]
    },
    {
      "cell_type": "code",
      "source": [
        "class person:\n",
        "  def __init__(self,name):\n",
        "    self.name=name\n",
        "  def say_hi(self):\n",
        "    print(\"hello,my name is\",self.name)\n",
        "p=person(\"naresh\")\n",
        "p.say_hi()\n",
        "\n"
      ],
      "metadata": {
        "colab": {
          "base_uri": "https://localhost:8080/"
        },
        "id": "mgokDtxdxrq7",
        "outputId": "c9bceac5-4cc8-4607-f7bc-9ea8c0e3e27b"
      },
      "execution_count": 4,
      "outputs": [
        {
          "output_type": "stream",
          "name": "stdout",
          "text": [
            "hello,my name is naresh\n"
          ]
        }
      ]
    },
    {
      "cell_type": "code",
      "source": [
        "from os import name\n",
        "class GFG:\n",
        "  def __init__(self,name,company):\n",
        "    self.name=name\n",
        "    self.company=company\n",
        "  def __str__(self):\n",
        "    return f\"my name is {self.name} and i work in{self.company}.\"\n",
        "my_obj=GFG(\"naresh\",\"IISc\")\n",
        "print(my_obj)"
      ],
      "metadata": {
        "colab": {
          "base_uri": "https://localhost:8080/"
        },
        "id": "-VUF_6BEy5Ja",
        "outputId": "6ee232b0-9a4f-4040-d4f4-3c71b116cf0c"
      },
      "execution_count": 6,
      "outputs": [
        {
          "output_type": "stream",
          "name": "stdout",
          "text": [
            "my name is naresh and i work inIISc.\n"
          ]
        }
      ]
    },
    {
      "cell_type": "code",
      "source": [
        "class Dog:\n",
        "  animal=\"dog\"\n",
        "  def __init__(self,breed,color):\n",
        "    self.breed=breed\n",
        "    self.color=color\n",
        "Rodger=Dog(\"jim\",\"balck\")\n",
        "Buzo=Dog(\"lim\",\"white\")\n",
        "print(\"Rodger Details:\")\n",
        "print(\"Rodger is a \", Rodger.animal)\n",
        "print(\"Breed:\",Rodger.breed)\n",
        "print(\"color\",Rodger.color)\n"
      ],
      "metadata": {
        "colab": {
          "base_uri": "https://localhost:8080/"
        },
        "id": "6SzoyOc5z4kr",
        "outputId": "79749ead-3b37-4c7f-f30e-f64c2c98e3df"
      },
      "execution_count": 7,
      "outputs": [
        {
          "output_type": "stream",
          "name": "stdout",
          "text": [
            "Rodger Details:\n",
            "Rodger is a  dog\n",
            "Breed: jim\n",
            "color balck\n"
          ]
        }
      ]
    },
    {
      "cell_type": "code",
      "source": [
        "class Dog:\n",
        "  animal=\"dog\"\n",
        "  def __init__(self,breed):\n",
        "    self.breed=breed\n",
        "  def setcolor(self,color):\n",
        "    self.color=color\n",
        "  def getcolor(self):\n",
        "    return self.color\n",
        "Rodger=Dog(\"jim\")\n",
        "Rodger.setcolor(\"black\")\n",
        "print(Rodger.getcolor())"
      ],
      "metadata": {
        "colab": {
          "base_uri": "https://localhost:8080/"
        },
        "id": "EpU2KqvE1Hr-",
        "outputId": "dae71350-060a-4138-b36e-4396adae74c8"
      },
      "execution_count": 8,
      "outputs": [
        {
          "output_type": "stream",
          "name": "stdout",
          "text": [
            "black\n"
          ]
        }
      ]
    }
  ]
}